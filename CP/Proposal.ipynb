{
 "cells": [
  {
   "cell_type": "markdown",
   "id": "0c3694b8",
   "metadata": {
    "slideshow": {
     "slide_type": "fragment"
    }
   },
   "source": [
    "Group Members: I would like to be in a group with  Julien\n"
   ]
  },
  {
   "cell_type": "markdown",
   "id": "b51234ef",
   "metadata": {},
   "source": [
    "Analysis Proposal #1: Loneliness vs. Burnout\n",
    "- How does loneliness affect our daily lives within a work environment? \n",
    "- does a lack of meaningful social interaction play a part within the work force or are they separate?"
   ]
  },
  {
   "cell_type": "markdown",
   "id": "2b877473",
   "metadata": {},
   "source": [
    "- Variables:\n",
    "- LONELY_dejong_emotional_social_loneliness_scale_emptiness\n",
    "- LONELY_dejong_emotional_social_loneliness_scale_rely\n",
    "- LONELY_dejong_emotional_social_loneliness_scale_trust\n",
    "- LONELY_dejong_emotional_social_loneliness_scale_close\n",
    "- LONELY_dejong_emotional_social_loneliness_scale_miss\n",
    "- LONELY_dejong_emotional_social_loneliness_scale_rejected\n",
    "- LONELY_direct\n",
    "- LONELY_duration\n",
    "- LONELY_change_pre_covid\n",
    "- LONELY_miss_fun\n",
    "- LONELY_miss_meaningful_conversation\n",
    "- etc\n",
    "\n",
    "- Looking at these variables can give a rough estimate on people that experience loneliness feel\n",
    "\n",
    "- Burnout Variables: \n",
    "- LIFESTYLE_time_use_balance_sleeping - a lack of sleep?\n",
    "- LIFESTYLE_time_use_balance_working - too much time working\n",
    "- LIFESTYLE_time_use_balance_exercising - little exercise? \n",
    "- WORK_hours_per_week\n",
    "- WORK_employment_impact_increased_hours\n",
    "- LONELY_existential_loneliness_scale_outlook\n",
    "- FINANCES_money_never_have\n",
    "- FINANCES_money_getting_by\n",
    "- FINANCES_money_concerned\n",
    "- WORK_feel_dignity\n",
    "- WORK_feel_control\n",
    "- WORK_feel_paid_enough\n",
    "- WORK_feel_appreciated\n",
    "- WORK_feel_supported\n",
    "- WORK_feel_fair\n",
    "- WORK_feel_quitting\n",
    "- WORK_feel_stress\n",
    "- more to be determined"
   ]
  },
  {
   "cell_type": "markdown",
   "id": "b62784b3",
   "metadata": {},
   "source": [
    "- The analysis that I would like to perform is through a simple linear regression model\n",
    "- Keeping in mind that correlatiion does not equal causation\n",
    "- But looking at certain variables can give some ideas on the social dynamic between loneliness and burn out\n",
    "- Other questions that may be answered are: \n",
    "- what creates loneliness in the first place?\n",
    "- Is money a driving factor for people with burn out or loneliness or both?\n",
    "\n",
    "Depending on the demographic that we are surveying, burn out and loneliness could be an important factor to analyze. By looking at people who are mentally and physically tired, we can create awareness to help prevent potential suicides, or to help create meaningful social connections to prevent loneliness. \n",
    "\n",
    "Burn out could be a factor from being overworked, and just merely needing a break, however, if loneliness can affect burn out, then creating social connections eliminates both issues. \n",
    "\n",
    "Possible results the survey could generate: \n",
    "- biased results between burn out and the number of hours they work, causing the data with loneliness to be affected\n",
    "- we are looking at the people that are lonely and burnt out but not burnt out from overwork/not having a break\n",
    "- there could be some correlation between burning out and loneliness - although they experience social connections at work they may deem them meaningless"
   ]
  },
  {
   "cell_type": "markdown",
   "id": "a00c3941",
   "metadata": {},
   "source": [
    "Analysis Proposal #2: Social Phobia vs. Emotional and Social Connection (Quality and Quantity)"
   ]
  },
  {
   "cell_type": "markdown",
   "id": "c1aa72f0",
   "metadata": {},
   "source": [
    "Questions to answer or lead the analysis: \n",
    "- To what extent does social phobia affect our social connection in terms of quality and quantity? \n",
    "- Can we find a stronger social connection with loved ones/close ones to have quality relationships/connections\n",
    "- How does social phobia influence an individual’s likelihood to participate in community activities? \n",
    "- to what extent does this effect vary based on the perceived level of social support from family and friends\n"
   ]
  },
  {
   "cell_type": "markdown",
   "id": "df1ae6a1",
   "metadata": {},
   "source": [
    "Variables for Social Phobia: \n",
    "- PSYCH_social_phobia_scale_walking\n",
    "- PSYCH_social_phobia_scale_shaking\n",
    "- PSYCH_social_phobia_scale_bus\n",
    "- PSYCH_social_phobia_scale_attention\n",
    "- PSYCH_social_phobia_scale_elevator\n",
    "- PSYCH_social_phobia_scale_conspicuous\n",
    "- PSYCH_social_phobia_scale_privacy\n",
    "- PSYCH_social_interactions_anxiety_scale_eye_contact\n",
    "- PSYCH_social_interactions_anxiety_scale_mixing\n",
    "- PSYCH_social_interactions_anxiety_scale_aquiantance\n",
    "- PSYCH_social_interactions_anxiety_scale_one_on_one\n",
    "- PSYCH_social_interactions_anxiety_scale_talking\n",
    "- PSYCH_social_interactions_anxiety_scale_disagree\n",
    "\n",
    "Dependent Variables: \n",
    "- CONNECTION_meaningful_interactions\n",
    "- CONNECTION_activities_greeted_stranger_p3m\n",
    "- CONNECTION_activities_greeted_neighbour_p3m\n",
    "- CONNECTION_activities_talked_day_p3m\n",
    "- CONNECTION_activities_talked_family_p3m\n",
    "- CONNECTION_activities_talked_job_p3m\n",
    "- CONNECTION_activities_talked_hobbies_p3m\n",
    "- CONNECTION_activities_phone_p3m\n",
    "- CONNECTION_activities_letter_or_email_p3m\n",
    "- CONNECTION_activities_checked_in_p3m\n",
    "- CONNECTION_activities_chat_p3m\n",
    "- CONNECTION_activities_video_chat_p3m\n",
    "- there are a lot of connection activities etc.\n",
    "\n",
    "- PSYCH_zimet_multidimensional_social_support_scale_family_emotional\n",
    "- the rest of the psych_multidimensiona_social_support variables:\n",
    "- we can look at variables that may suggest that these same individuals that have social phobia may tend to prefer to do things individually, or maybe they would like to do be more engaged with others"
   ]
  },
  {
   "cell_type": "markdown",
   "id": "202030fb",
   "metadata": {},
   "source": [
    "This analysis will: \n",
    "- attempt to form conclusions around a person's isolation\n",
    "- how to potentially combat against an person's social phobia to foster a more inclusive environment\n",
    "- we can look at what might cause a person's self esteem to plummet, and ways to raise their self-esteem. this is different than creating an inclusive environment, this one attempts to work on themselves individually, whereas the point above attempts to look at the community as a whole,\n",
    "- look at the connection between quality and quantity, should people with social phobia experience more (quantity) connections to solve work on themselves? or should they strive for less but more meaningful connections. Having both quality and quantity connections will be an indicator of good results, (potentially create a scatterplot with quantity and quality being on on the axis)\n"
   ]
  },
  {
   "cell_type": "markdown",
   "id": "d36c9df8",
   "metadata": {},
   "source": [
    "Potential Results: \n",
    "- we may see an increase in people with social phobia spending more time with family rather with friends\n",
    "- we may see people with social phobia prioritizing quality experiences rather than engaging in more and more experiences\n",
    "- we may see that people with social phobia but gradually increased the amount of social interactions that they have became more open-minded, and gradually decreasing the amount of social phobia\n"
   ]
  },
  {
   "cell_type": "markdown",
   "id": "7cc788b0",
   "metadata": {},
   "source": [
    "Analysis Proposal #3: Friends vs Family: Which provides a stronger emotional and social connection/support?"
   ]
  },
  {
   "cell_type": "markdown",
   "id": "dd2d3547",
   "metadata": {},
   "source": [
    "- We often say to create connections with both family and friends, but is there any difference in the two? Do people have a bias on where they normally spend their time with? Should people that strive for quality experiences look towards family or friendS?\n",
    "- Which between friends and families creates a safer environment for the individual? Do they feel that their voice is heard, or do they feel that they are isolated/exiled"
   ]
  },
  {
   "cell_type": "markdown",
   "id": "ef6a6012",
   "metadata": {},
   "source": [
    "Friends: \n",
    "- CONNECTION_activities_visited_friends_p3m\n",
    "- CONNECTION_activities_helped_p3m\n",
    "- CONNECTION_activities_new_friend_p3m\n",
    "- CONNECTION_social_num_close_friends_grouped\n",
    "- CONNECTION_satisfied_num_friends\n",
    "- CONNECTION_social_days_friends_p7d_grouped\n",
    "- CONNECTION_social_time_friends_p7d_grouped\n",
    "- CONNECTION_preference_time_friends_grouped\n",
    "- CONNECTION_meaningful_time_friends_grouped\n",
    "- LONELY_steptoe_isolation_index_friends\n",
    "- PSYCH_zimet_multidimensional_social_support_scale_go_wrong\n",
    "- PSYCH_zimet_multidimensional_social_support_scale_problems_friends\n",
    "- just a few, there will be more\n",
    "\n",
    "Family: \n",
    "- CONNECTION_activities_visited_family_p3m\n",
    "- CONNECTION_social_days_family_p7d_grouped\n",
    "- CONNECTION_social_time_family_p7d_grouped\n",
    "- CONNECTION_social_num_family_p7d_grouped\n",
    "- CONNECTION_preference_time_family_grouped\n",
    "- CONNECTION_meaningful_time_family_grouped\n",
    "- LONELY_steptoe_isolation_index_other_fam\n",
    "- PSYCH_zimet_multidimensional_social_support_scale_family_helps\n",
    "- PSYCH_zimet_multidimensional_social_support_scale_family_emotional\n",
    "- PSYCH_zimet_multidimensional_social_support_scale_problems_family\n",
    "- just a few there willbe more\n",
    "\n",
    "Both: \n",
    "- CONNECTION_activities_phone_p3m\n",
    "- CONNECTION_activities_letter_or_email_p3m\n",
    "- CONNECTION_activities_video_chat_p3m\n",
    "- CONNECTION_activities_group_video_chat_p3m\n",
    "- PSYCH_zimet_multidimensional_social_support_scale_need\n",
    "- PSYCH_zimet_multidimensional_social_support_scale_joys\n",
    "- PSYCH_zimet_multidimensional_social_support_scale_positive_not_scored\n",
    "- PSYCH_zimet_multidimensional_social_support_scale_gets_me_not_scored\n",
    "- PSYCH_zimet_multidimensional_social_support_scale_comfort\n",
    "- PSYCH_zimet_multidimensional_social_support_scale_sorrows\n",
    "- PSYCH_zimet_multidimensional_social_support_scale_decisions\n",
    "- just a few there will be more"
   ]
  },
  {
   "cell_type": "markdown",
   "id": "edcf6831",
   "metadata": {},
   "source": [
    "Potential Areas of Analysis: \n",
    "- looking at the individuals and their loneliness\n",
    "- their social phobia\n",
    "- their work environment\n",
    "- their mental health\n",
    "- there are a lot of variables that house these topics\n",
    "\n",
    "and comparing the two"
   ]
  },
  {
   "cell_type": "markdown",
   "id": "4bc3ed9e",
   "metadata": {},
   "source": [
    "The analysis between friends and family: \n",
    "- the influence of early upbringings and how that might affect individuals later on in their lives\n",
    "- looking at people's social skills can be traced back to their families\n",
    "- we can also look at the flipside and the potential of poor upbringing can do to an individual\n",
    "- social validation and the impact friends can have on their social phobia\n",
    "- can look at a person's sense of belonging outside of their family, or even within their family\n",
    "\n",
    "- there may be areas where the influence of family and friends might play no difference at all\n",
    "- e.g a pure introvert might prefer to distance themselves from both friends and family as their desire to be by themselves weighs heavier"
   ]
  }
 ],
 "metadata": {
  "kernelspec": {
   "display_name": "Python 3 (ipykernel)",
   "language": "python",
   "name": "python3"
  },
  "language_info": {
   "codemirror_mode": {
    "name": "ipython",
    "version": 3
   },
   "file_extension": ".py",
   "mimetype": "text/x-python",
   "name": "python",
   "nbconvert_exporter": "python",
   "pygments_lexer": "ipython3",
   "version": "3.11.6"
  }
 },
 "nbformat": 4,
 "nbformat_minor": 5
}
